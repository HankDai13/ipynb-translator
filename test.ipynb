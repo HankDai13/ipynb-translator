{
 "cells": [
  {
   "cell_type": "code",
   "execution_count": 1,
   "id": "dab89630",
   "metadata": {},
   "outputs": [
    {
     "name": "stdout",
     "output_type": "stream",
     "text": [
      "Hello, World!\n"
     ]
    }
   ],
   "source": [
    "print(\"Hello, World!\")"
   ]
  },
  {
   "cell_type": "markdown",
   "id": "4def035b",
   "metadata": {},
   "source": [
    "first example,This is a Markdown cell in English\n",
    "\n",
    "above is a empty line\n",
    "## this is a title\n",
    "\n",
    "### table example\n",
    "\n",
    "| hello | you | she |\n",
    "|------|------|------|\n",
    "| first | busy | morning |\n",
    "| second | doing | afternoon |\n",
    "| third | done | night |"
   ]
  },
  {
   "cell_type": "markdown",
   "id": "1d772bf1",
   "metadata": {},
   "source": [
    "你好，这是中文书写的Markdown单元格，我是测试"
   ]
  },
  {
   "cell_type": "markdown",
   "id": "b41a624e",
   "metadata": {},
   "source": [
    "second example,This is a Markdown cell in English"
   ]
  },
  {
   "cell_type": "markdown",
   "id": "faea11fa",
   "metadata": {},
   "source": [
    "third example,This is a Markdown cell in English"
   ]
  },
  {
   "cell_type": "code",
   "execution_count": null,
   "id": "d099b421",
   "metadata": {},
   "outputs": [],
   "source": [
    "a=10\n",
    "print(a)"
   ]
  }
 ],
 "metadata": {
  "kernelspec": {
   "display_name": "base",
   "language": "python",
   "name": "python3"
  },
  "language_info": {
   "codemirror_mode": {
    "name": "ipython",
    "version": 3
   },
   "file_extension": ".py",
   "mimetype": "text/x-python",
   "name": "python",
   "nbconvert_exporter": "python",
   "pygments_lexer": "ipython3",
   "version": "3.12.3"
  }
 },
 "nbformat": 4,
 "nbformat_minor": 5
}
